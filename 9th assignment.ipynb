{
 "cells": [
  {
   "cell_type": "raw",
   "id": "a62a7b47-886a-4439-a77e-eb4a5f8bc406",
   "metadata": {},
   "source": [
    " 1. Given an array, check if it contains any duplicates or not.\n",
    "arr = [1, 2, 4, 2, 5, 9]"
   ]
  },
  {
   "cell_type": "code",
   "execution_count": null,
   "id": "9ba2c7c8-e39a-443b-9d17-962a80f5e1e8",
   "metadata": {},
   "outputs": [],
   "source": [
    "arr = [1, 2, 4, 2, 5, 9]\n",
    "if len(set(arr)) == len(arr):\n",
    "    print(\"No! there is no duplicate element in the array.\")\n",
    "else:\n",
    "    print(\"Yes! there is duplicate element in the array.\")"
   ]
  },
  {
   "cell_type": "raw",
   "id": "35546d1d-9230-4823-90ee-805cf2708011",
   "metadata": {},
   "source": [
    "2. Given an array and an integer k, rotate the array to the right by k steps.\n",
    "arr = [1, 2, 3, 4, 5, 6, 7] k = 3\n",
    "Output = [5, 6, 7, 1, 2, 3, 4]"
   ]
  },
  {
   "cell_type": "code",
   "execution_count": 1,
   "id": "0f61409a-bb07-422c-9eac-20802d6c795b",
   "metadata": {},
   "outputs": [
    {
     "name": "stdout",
     "output_type": "stream",
     "text": [
      "[5, 6, 7, 1, 2, 3, 4]\n"
     ]
    }
   ],
   "source": [
    "def reverse_array(e, k):\n",
    "    e[:] = e[-k:] + e[:-k] \n",
    "    return e\n",
    "\n",
    "arr = [1, 2, 3, 4, 5, 6, 7]\n",
    "print(reverse_array(arr, 3))"
   ]
  },
  {
   "cell_type": "raw",
   "id": "4311626a-650c-4c50-9e22-ee280e7708e2",
   "metadata": {},
   "source": [
    "3. Reverse the given array in-place, means without using any extra data structure.\n",
    "arr = [2, 4, 5, 7, 9, 12]\n",
    "Output = [12, 9, 7, 5, 4, 2]"
   ]
  },
  {
   "cell_type": "code",
   "execution_count": 1,
   "id": "e66c8123-a9f9-471a-8125-d082d4535b2b",
   "metadata": {},
   "outputs": [
    {
     "name": "stdout",
     "output_type": "stream",
     "text": [
      "[12, 9, 7, 5, 4, 2]\n"
     ]
    }
   ],
   "source": [
    "arr = [2, 4, 5, 7, 9, 12]\n",
    "def reverse_list(e):\n",
    "    i =0\n",
    "    while i < (len(e)//2):\n",
    "        e[i], e[-(i+1)] = e[-(i+1)], e[i]\n",
    "        i+=1\n",
    "    return e\n",
    "    \n",
    "print(reverse_list(arr))"
   ]
  },
  {
   "cell_type": "raw",
   "id": "8073a2ac-cdb6-421f-a6f6-6a8ccc56f162",
   "metadata": {},
   "source": [
    "4. Given an array of integers, find the maximum element in an array\n",
    "arr = [10, 5, 20, 8, 15]\n",
    "Output = 20"
   ]
  },
  {
   "cell_type": "code",
   "execution_count": null,
   "id": "c70da105-1bb7-4f11-af4e-761e84a6b14b",
   "metadata": {},
   "outputs": [],
   "source": [
    "arr = [10, 5, 20, 8, 15]\n",
    "\n",
    "def max_number(e):\n",
    "    return max(e)\n",
    "\n",
    "print(\"The maximum number is:\",max_number(arr))"
   ]
  },
  {
   "cell_type": "raw",
   "id": "5af65d0a-5679-4a9e-9ee5-e2eb54b6671c",
   "metadata": {},
   "source": [
    "5. Given a sorted array, remove the duplicate element without using any extra data structure.\n",
    "arr = [1, 1, 2, 2, 2, 3, 3, 4, 4, 4, 5, 5]\n",
    "Output = [1, 2, 3, 4, 5]"
   ]
  },
  {
   "cell_type": "code",
   "execution_count": 2,
   "id": "656be5da-4701-4613-9855-6143b20a2dee",
   "metadata": {},
   "outputs": [
    {
     "name": "stdout",
     "output_type": "stream",
     "text": [
      "[1, 2, 3, 4, 5]\n"
     ]
    }
   ],
   "source": [
    "def remove_duplicates(arr):\n",
    "    if len(arr) == 0:\n",
    "        return []\n",
    "\n",
    "    index = 1\n",
    "    for i in range(1, len(arr)):\n",
    "        if arr[i] != arr[index - 1]:\n",
    "            arr[index] = arr[i]\n",
    "            index += 1\n",
    "\n",
    "    return arr[:index]\n",
    "\n",
    "arr = [1, 1, 2, 2, 2, 3, 3, 4, 4, 4, 1, 5, 5]\n",
    "arr.sort()  \n",
    "arr = remove_duplicates(arr)\n",
    "print(arr) "
   ]
  }
 ],
 "metadata": {
  "kernelspec": {
   "display_name": "Python 3 (ipykernel)",
   "language": "python",
   "name": "python3"
  },
  "language_info": {
   "codemirror_mode": {
    "name": "ipython",
    "version": 3
   },
   "file_extension": ".py",
   "mimetype": "text/x-python",
   "name": "python",
   "nbconvert_exporter": "python",
   "pygments_lexer": "ipython3",
   "version": "3.10.8"
  }
 },
 "nbformat": 4,
 "nbformat_minor": 5
}
